{
 "cells": [
  {
   "cell_type": "code",
   "execution_count": 0,
   "metadata": {
    "application/vnd.databricks.v1+cell": {
     "cellMetadata": {
      "byteLimit": 2048000,
      "rowLimit": 10000
     },
     "inputWidgets": {},
     "nuid": "c3bc1837-eb90-4233-a988-535a75fda228",
     "showTitle": false,
     "tableResultSettingsMap": {},
     "title": ""
    }
   },
   "outputs": [],
   "source": [
    "from pyspark.sql.functions import col, count"
   ]
  },
  {
   "cell_type": "code",
   "execution_count": 0,
   "metadata": {
    "application/vnd.databricks.v1+cell": {
     "cellMetadata": {
      "byteLimit": 2048000,
      "rowLimit": 10000
     },
     "inputWidgets": {},
     "nuid": "cbea48b1-7aca-4eb5-902b-9de4b7532095",
     "showTitle": false,
     "tableResultSettingsMap": {},
     "title": ""
    }
   },
   "outputs": [],
   "source": [
    "# Leitura das tabelas Bronze e Silver\n",
    "df_orders = spark.read.table(\"bronze.olist_orders\")\n",
    "df_order_items = spark.read.table(\"bronze.olist_order_items\")\n",
    "df_dim_customers = spark.read.table(\"silver.dim_customers\")"
   ]
  },
  {
   "cell_type": "markdown",
   "metadata": {
    "application/vnd.databricks.v1+cell": {
     "cellMetadata": {},
     "inputWidgets": {},
     "nuid": "058c6032-076d-4d6e-b347-163cef38be69",
     "showTitle": false,
     "tableResultSettingsMap": {},
     "title": ""
    }
   },
   "source": [
    "### JOIN"
   ]
  },
  {
   "cell_type": "code",
   "execution_count": 0,
   "metadata": {
    "application/vnd.databricks.v1+cell": {
     "cellMetadata": {
      "byteLimit": 2048000,
      "rowLimit": 10000
     },
     "inputWidgets": {},
     "nuid": "5914cf5f-90ef-4eae-9fde-1ae5579d032e",
     "showTitle": false,
     "tableResultSettingsMap": {},
     "title": ""
    }
   },
   "outputs": [],
   "source": [
    "# Join: order_items, orders e customers\n",
    "df_fato = df_order_items \\\n",
    "    .join(df_orders, on=\"order_id\", how=\"inner\") \\\n",
    "    .join(df_dim_customers, on=\"customer_id\", how=\"inner\")"
   ]
  },
  {
   "cell_type": "markdown",
   "metadata": {
    "application/vnd.databricks.v1+cell": {
     "cellMetadata": {},
     "inputWidgets": {},
     "nuid": "6816c246-8898-43f9-8266-c1677af697f6",
     "showTitle": false,
     "tableResultSettingsMap": {},
     "title": ""
    }
   },
   "source": [
    "### Preço total item"
   ]
  },
  {
   "cell_type": "code",
   "execution_count": 0,
   "metadata": {
    "application/vnd.databricks.v1+cell": {
     "cellMetadata": {
      "byteLimit": 2048000,
      "rowLimit": 10000
     },
     "inputWidgets": {},
     "nuid": "f75a3ade-36ee-4672-a4d1-eba5addf80e0",
     "showTitle": false,
     "tableResultSettingsMap": {},
     "title": ""
    }
   },
   "outputs": [],
   "source": [
    "# Seleção sugerida no desafio com coluna com métrica sugerida de preço total do item. \n",
    "df_fato_final = df_fato.select(\n",
    "    \"order_id\",\n",
    "    \"order_item_id\",\n",
    "    \"product_id\",\n",
    "    \"seller_id\",\n",
    "    \"customer_id\",\n",
    "    \"order_status\",\n",
    "    \"order_purchase_timestamp\",\n",
    "    \"shipping_limit_date\",\n",
    "    \"price\",\n",
    "    \"freight_value\"\n",
    ").withColumn(\"preco_total_item\", col(\"price\") + col(\"freight_value\"))\n"
   ]
  },
  {
   "cell_type": "markdown",
   "metadata": {
    "application/vnd.databricks.v1+cell": {
     "cellMetadata": {},
     "inputWidgets": {},
     "nuid": "aa17b5e9-c1c5-4159-b54a-0a0058637a24",
     "showTitle": false,
     "tableResultSettingsMap": {},
     "title": ""
    }
   },
   "source": [
    "### Preço médio unitário"
   ]
  },
  {
   "cell_type": "code",
   "execution_count": 0,
   "metadata": {
    "application/vnd.databricks.v1+cell": {
     "cellMetadata": {
      "byteLimit": 2048000,
      "rowLimit": 10000
     },
     "inputWidgets": {},
     "nuid": "0f046a36-e8cb-42eb-a947-d4af361e6e05",
     "showTitle": false,
     "tableResultSettingsMap": {},
     "title": ""
    }
   },
   "outputs": [],
   "source": [
    "# Calcula o preço médio por item no pedido, preco_unitario_medio = preco_total_item / order_item_id\n",
    "\n",
    "df_fato_final = df_fato_final.withColumn(\n",
    "    \"preco_medio_unitario\", col(\"preco_total_item\") / col(\"order_item_id\")\n",
    ")"
   ]
  },
  {
   "cell_type": "markdown",
   "metadata": {
    "application/vnd.databricks.v1+cell": {
     "cellMetadata": {},
     "inputWidgets": {},
     "nuid": "a4056131-fc4b-4ed8-b7cc-f611a834ec0c",
     "showTitle": false,
     "tableResultSettingsMap": {},
     "title": ""
    }
   },
   "source": [
    "### Verificações"
   ]
  },
  {
   "cell_type": "markdown",
   "metadata": {
    "application/vnd.databricks.v1+cell": {
     "cellMetadata": {},
     "inputWidgets": {},
     "nuid": "88382783-d7c5-4483-9987-1550d2388e2f",
     "showTitle": false,
     "tableResultSettingsMap": {},
     "title": ""
    }
   },
   "source": [
    "#### Campos Nulos"
   ]
  },
  {
   "cell_type": "code",
   "execution_count": 0,
   "metadata": {
    "application/vnd.databricks.v1+cell": {
     "cellMetadata": {
      "byteLimit": 2048000,
      "rowLimit": 10000
     },
     "inputWidgets": {},
     "nuid": "bbd7de17-44b3-4652-8393-18f25ff7acc8",
     "showTitle": false,
     "tableResultSettingsMap": {},
     "title": ""
    }
   },
   "outputs": [
    {
     "output_type": "display_data",
     "data": {
      "text/html": [
       "<style scoped>\n",
       "  .table-result-container {\n",
       "    max-height: 300px;\n",
       "    overflow: auto;\n",
       "  }\n",
       "  table, th, td {\n",
       "    border: 1px solid black;\n",
       "    border-collapse: collapse;\n",
       "  }\n",
       "  th, td {\n",
       "    padding: 5px;\n",
       "  }\n",
       "  th {\n",
       "    text-align: left;\n",
       "  }\n",
       "</style><div class='table-result-container'><table class='table-result'><thead style='background-color: white'><tr><th>order_id</th><th>order_item_id</th><th>product_id</th><th>customer_id</th><th>price</th><th>freight_value</th><th>preco_total_item</th></tr></thead><tbody><tr><td>0</td><td>0</td><td>0</td><td>0</td><td>0</td><td>0</td><td>0</td></tr></tbody></table></div>"
      ]
     },
     "metadata": {
      "application/vnd.databricks.v1+output": {
       "addedWidgets": {},
       "aggData": [],
       "aggError": "",
       "aggOverflow": false,
       "aggSchema": [],
       "aggSeriesLimitReached": false,
       "aggType": "",
       "arguments": {},
       "columnCustomDisplayInfos": {},
       "data": [
        [
         0,
         0,
         0,
         0,
         0,
         0,
         0
        ]
       ],
       "datasetInfos": [],
       "dbfsResultPath": null,
       "isJsonSchema": true,
       "metadata": {},
       "overflow": false,
       "plotOptions": {
        "customPlotOptions": {},
        "displayType": "table",
        "pivotAggregation": null,
        "pivotColumns": null,
        "xColumns": null,
        "yColumns": null
       },
       "removedWidgets": [],
       "schema": [
        {
         "metadata": "{}",
         "name": "order_id",
         "type": "\"long\""
        },
        {
         "metadata": "{}",
         "name": "order_item_id",
         "type": "\"long\""
        },
        {
         "metadata": "{}",
         "name": "product_id",
         "type": "\"long\""
        },
        {
         "metadata": "{}",
         "name": "customer_id",
         "type": "\"long\""
        },
        {
         "metadata": "{}",
         "name": "price",
         "type": "\"long\""
        },
        {
         "metadata": "{}",
         "name": "freight_value",
         "type": "\"long\""
        },
        {
         "metadata": "{}",
         "name": "preco_total_item",
         "type": "\"long\""
        }
       ],
       "type": "table"
      }
     },
     "output_type": "display_data"
    }
   ],
   "source": [
    "# Verificação de campos nulos em colunas essenciais\n",
    "null_check = df_fato_final.select([\n",
    "    count(when(col(c).isNull(), c)).alias(c) for c in [\n",
    "        \"order_id\", \"order_item_id\", \"product_id\", \"customer_id\",\n",
    "        \"price\", \"freight_value\", \"preco_total_item\"\n",
    "    ]\n",
    "])\n",
    "\n",
    "display(null_check)\n",
    "\n",
    "# Se houver nulos, interrompe o notebook\n",
    "null_counts = null_check.collect()[0].asDict()\n",
    "if any(v > 0 for v in null_counts.values()):\n",
    "    raise Exception(f\"Falha na verificação de qualidade: campos nulos encontrados: {null_counts}\")\n"
   ]
  },
  {
   "cell_type": "markdown",
   "metadata": {
    "application/vnd.databricks.v1+cell": {
     "cellMetadata": {},
     "inputWidgets": {},
     "nuid": "57c11229-9dd3-43bb-84f0-f7373899cf55",
     "showTitle": false,
     "tableResultSettingsMap": {},
     "title": ""
    }
   },
   "source": [
    "#### Valores Negativos"
   ]
  },
  {
   "cell_type": "code",
   "execution_count": 0,
   "metadata": {
    "application/vnd.databricks.v1+cell": {
     "cellMetadata": {
      "byteLimit": 2048000,
      "rowLimit": 10000
     },
     "inputWidgets": {},
     "nuid": "84ecce02-ce47-4a28-9773-99dd6c023553",
     "showTitle": false,
     "tableResultSettingsMap": {},
     "title": ""
    }
   },
   "outputs": [
    {
     "output_type": "display_data",
     "data": {
      "text/html": [
       "<style scoped>\n",
       "  .table-result-container {\n",
       "    max-height: 300px;\n",
       "    overflow: auto;\n",
       "  }\n",
       "  table, th, td {\n",
       "    border: 1px solid black;\n",
       "    border-collapse: collapse;\n",
       "  }\n",
       "  th, td {\n",
       "    padding: 5px;\n",
       "  }\n",
       "  th {\n",
       "    text-align: left;\n",
       "  }\n",
       "</style><div class='table-result-container'><table class='table-result'><thead style='background-color: white'><tr><th>order_id</th><th>order_item_id</th><th>product_id</th><th>seller_id</th><th>customer_id</th><th>order_status</th><th>order_purchase_timestamp</th><th>shipping_limit_date</th><th>price</th><th>freight_value</th><th>preco_total_item</th><th>preco_medio_unitario</th></tr></thead><tbody></tbody></table></div>"
      ]
     },
     "metadata": {
      "application/vnd.databricks.v1+output": {
       "addedWidgets": {},
       "aggData": [],
       "aggError": "",
       "aggOverflow": false,
       "aggSchema": [],
       "aggSeriesLimitReached": false,
       "aggType": "",
       "arguments": {},
       "columnCustomDisplayInfos": {},
       "data": [],
       "datasetInfos": [],
       "dbfsResultPath": null,
       "isJsonSchema": true,
       "metadata": {},
       "overflow": false,
       "plotOptions": {
        "customPlotOptions": {},
        "displayType": "table",
        "pivotAggregation": null,
        "pivotColumns": null,
        "xColumns": null,
        "yColumns": null
       },
       "removedWidgets": [],
       "schema": [
        {
         "metadata": "{}",
         "name": "order_id",
         "type": "\"string\""
        },
        {
         "metadata": "{}",
         "name": "order_item_id",
         "type": "\"integer\""
        },
        {
         "metadata": "{}",
         "name": "product_id",
         "type": "\"string\""
        },
        {
         "metadata": "{}",
         "name": "seller_id",
         "type": "\"string\""
        },
        {
         "metadata": "{}",
         "name": "customer_id",
         "type": "\"string\""
        },
        {
         "metadata": "{}",
         "name": "order_status",
         "type": "\"string\""
        },
        {
         "metadata": "{}",
         "name": "order_purchase_timestamp",
         "type": "\"timestamp\""
        },
        {
         "metadata": "{}",
         "name": "shipping_limit_date",
         "type": "\"timestamp\""
        },
        {
         "metadata": "{}",
         "name": "price",
         "type": "\"double\""
        },
        {
         "metadata": "{}",
         "name": "freight_value",
         "type": "\"double\""
        },
        {
         "metadata": "{}",
         "name": "preco_total_item",
         "type": "\"double\""
        },
        {
         "metadata": "{}",
         "name": "preco_medio_unitario",
         "type": "\"double\""
        }
       ],
       "type": "table"
      }
     },
     "output_type": "display_data"
    }
   ],
   "source": [
    "# Verifica se há preços negativos\n",
    "valores_invalidos = df_fato_final.filter((col(\"price\") < 0) | (col(\"freight_value\") < 0))\n",
    "\n",
    "display(valores_invalidos)\n",
    "\n",
    "if valores_invalidos.count() > 0:\n",
    "    raise Exception(\"Falha na verificação de qualidade: valores negativos encontrados em price ou freight_value.\")"
   ]
  },
  {
   "cell_type": "code",
   "execution_count": 0,
   "metadata": {
    "application/vnd.databricks.v1+cell": {
     "cellMetadata": {
      "byteLimit": 2048000,
      "rowLimit": 10000
     },
     "inputWidgets": {},
     "nuid": "5f831be6-3b89-426b-a68f-3f5127ebbc23",
     "showTitle": false,
     "tableResultSettingsMap": {},
     "title": ""
    }
   },
   "outputs": [],
   "source": [
    "df_fato_final.write.format(\"delta\") \\\n",
    "    .mode(\"overwrite\") \\\n",
    "    .saveAsTable(\"silver.fct_order_items\")"
   ]
  },
  {
   "cell_type": "code",
   "execution_count": 0,
   "metadata": {
    "application/vnd.databricks.v1+cell": {
     "cellMetadata": {
      "byteLimit": 2048000,
      "implicitDf": true,
      "rowLimit": 10000
     },
     "inputWidgets": {},
     "nuid": "5b892e52-1cf3-44fd-a268-e7b2c15d7db0",
     "showTitle": false,
     "tableResultSettingsMap": {},
     "title": ""
    }
   },
   "outputs": [
    {
     "output_type": "display_data",
     "data": {
      "text/html": [
       "<style scoped>\n",
       "  .table-result-container {\n",
       "    max-height: 300px;\n",
       "    overflow: auto;\n",
       "  }\n",
       "  table, th, td {\n",
       "    border: 1px solid black;\n",
       "    border-collapse: collapse;\n",
       "  }\n",
       "  th, td {\n",
       "    padding: 5px;\n",
       "  }\n",
       "  th {\n",
       "    text-align: left;\n",
       "  }\n",
       "</style><div class='table-result-container'><table class='table-result'><thead style='background-color: white'><tr><th>customer_id</th><th>unique_id</th><th>zip_prefix</th><th>city</th><th>state</th></tr></thead><tbody><tr><td>00050bf6e01e69d5c0fd612f1bcfb69c</td><td>e3cf594a99e810f58af53ed4820f25e5</td><td>98700</td><td>IJUI</td><td>RS</td></tr><tr><td>000598caf2ef4117407665ac33275130</td><td>7e0516b486e92ed3f3afdd6d1276cfbd</td><td>35540</td><td>OLIVEIRA</td><td>MG</td></tr><tr><td>0013cd8e350a7cc76873441e431dd5ee</td><td>334fed5abcee3aa96c13f1432703e1fd</td><td>3585</td><td>SAO PAULO</td><td>SP</td></tr><tr><td>0015bc9fd2d5395446143e8b215d7c75</td><td>490c854539b21598cfbbac518ca25788</td><td>12233</td><td>SAO JOSE DOS CAMPOS</td><td>SP</td></tr><tr><td>001df1ee5c36767aa607001ab1a13a06</td><td>46b44ab325f78e5bb3dc0bbef1082082</td><td>1030</td><td>SAO PAULO</td><td>SP</td></tr><tr><td>001f150aebb5d897f2059b0460c38449</td><td>0f88eb431888ffb9d726252b7ac8cefe</td><td>79031</td><td>CAMPO GRANDE</td><td>MS</td></tr><tr><td>001f35d9f262c558fd065346fbf5801d</td><td>ed5340f0e2a52fffa065298aeb875e60</td><td>21011</td><td>RIO DE JANEIRO</td><td>RJ</td></tr><tr><td>0026955706fd4e2fa997f3f4c18d485a</td><td>47b6bc410befb9fa30a4c029dba944e5</td><td>2926</td><td>SAO PAULO</td><td>SP</td></tr><tr><td>0028ff36263a86bf679df7c863a0a0ba</td><td>0659763dba9821af49728668716e1084</td><td>28895</td><td>RIO DAS OSTRAS</td><td>RJ</td></tr><tr><td>0035b30e58c620fa2bd30275ddd4f7ef</td><td>422ce018570adf9fa031a7838717be81</td><td>24342</td><td>NITEROI</td><td>RJ</td></tr></tbody></table></div>"
      ]
     },
     "metadata": {
      "application/vnd.databricks.v1+output": {
       "addedWidgets": {},
       "aggData": [],
       "aggError": "",
       "aggOverflow": false,
       "aggSchema": [],
       "aggSeriesLimitReached": false,
       "aggType": "",
       "arguments": {},
       "columnCustomDisplayInfos": {},
       "data": [
        [
         "00050bf6e01e69d5c0fd612f1bcfb69c",
         "e3cf594a99e810f58af53ed4820f25e5",
         "98700",
         "IJUI",
         "RS"
        ],
        [
         "000598caf2ef4117407665ac33275130",
         "7e0516b486e92ed3f3afdd6d1276cfbd",
         "35540",
         "OLIVEIRA",
         "MG"
        ],
        [
         "0013cd8e350a7cc76873441e431dd5ee",
         "334fed5abcee3aa96c13f1432703e1fd",
         "3585",
         "SAO PAULO",
         "SP"
        ],
        [
         "0015bc9fd2d5395446143e8b215d7c75",
         "490c854539b21598cfbbac518ca25788",
         "12233",
         "SAO JOSE DOS CAMPOS",
         "SP"
        ],
        [
         "001df1ee5c36767aa607001ab1a13a06",
         "46b44ab325f78e5bb3dc0bbef1082082",
         "1030",
         "SAO PAULO",
         "SP"
        ],
        [
         "001f150aebb5d897f2059b0460c38449",
         "0f88eb431888ffb9d726252b7ac8cefe",
         "79031",
         "CAMPO GRANDE",
         "MS"
        ],
        [
         "001f35d9f262c558fd065346fbf5801d",
         "ed5340f0e2a52fffa065298aeb875e60",
         "21011",
         "RIO DE JANEIRO",
         "RJ"
        ],
        [
         "0026955706fd4e2fa997f3f4c18d485a",
         "47b6bc410befb9fa30a4c029dba944e5",
         "2926",
         "SAO PAULO",
         "SP"
        ],
        [
         "0028ff36263a86bf679df7c863a0a0ba",
         "0659763dba9821af49728668716e1084",
         "28895",
         "RIO DAS OSTRAS",
         "RJ"
        ],
        [
         "0035b30e58c620fa2bd30275ddd4f7ef",
         "422ce018570adf9fa031a7838717be81",
         "24342",
         "NITEROI",
         "RJ"
        ]
       ],
       "datasetInfos": [],
       "dbfsResultPath": null,
       "isJsonSchema": true,
       "metadata": {},
       "overflow": false,
       "plotOptions": {
        "customPlotOptions": {},
        "displayType": "table",
        "pivotAggregation": null,
        "pivotColumns": null,
        "xColumns": null,
        "yColumns": null
       },
       "removedWidgets": [],
       "schema": [
        {
         "metadata": "{}",
         "name": "customer_id",
         "type": "\"string\""
        },
        {
         "metadata": "{}",
         "name": "unique_id",
         "type": "\"string\""
        },
        {
         "metadata": "{}",
         "name": "zip_prefix",
         "type": "\"string\""
        },
        {
         "metadata": "{}",
         "name": "city",
         "type": "\"string\""
        },
        {
         "metadata": "{}",
         "name": "state",
         "type": "\"string\""
        }
       ],
       "type": "table"
      }
     },
     "output_type": "display_data"
    }
   ],
   "source": [
    "%sql\n",
    "SELECT * FROM silver.dim_customers LIMIT 10;"
   ]
  }
 ],
 "metadata": {
  "application/vnd.databricks.v1+notebook": {
   "computePreferences": null,
   "dashboards": [],
   "environmentMetadata": {
    "base_environment": "",
    "environment_version": "1"
   },
   "inputWidgetPreferences": null,
   "language": "python",
   "notebookMetadata": {
    "mostRecentlyExecutedCommandWithImplicitDF": {
     "commandId": 500491060173334,
     "dataframes": [
      "_sqldf"
     ]
    },
    "pythonIndentUnit": 4
   },
   "notebookName": "RPE Challenge - Silver - 2",
   "widgets": {}
  }
 },
 "nbformat": 4,
 "nbformat_minor": 0
}