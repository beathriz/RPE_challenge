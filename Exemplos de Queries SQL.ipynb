{
 "cells": [
  {
   "cell_type": "code",
   "execution_count": 0,
   "metadata": {
    "application/vnd.databricks.v1+cell": {
     "cellMetadata": {
      "byteLimit": 2048000,
      "implicitDf": true,
      "rowLimit": 10000
     },
     "inputWidgets": {},
     "nuid": "077c136f-b0d7-49ae-b71d-d962b72184bf",
     "showTitle": false,
     "tableResultSettingsMap": {},
     "title": ""
    }
   },
   "outputs": [
    {
     "output_type": "display_data",
     "data": {
      "text/html": [
       "<style scoped>\n",
       "  .table-result-container {\n",
       "    max-height: 300px;\n",
       "    overflow: auto;\n",
       "  }\n",
       "  table, th, td {\n",
       "    border: 1px solid black;\n",
       "    border-collapse: collapse;\n",
       "  }\n",
       "  th, td {\n",
       "    padding: 5px;\n",
       "  }\n",
       "  th {\n",
       "    text-align: left;\n",
       "  }\n",
       "</style><div class='table-result-container'><table class='table-result'><thead style='background-color: white'><tr><th>customer_id</th><th>unique_id</th><th>zip_prefix</th><th>city</th><th>state</th></tr></thead><tbody><tr><td>00050bf6e01e69d5c0fd612f1bcfb69c</td><td>e3cf594a99e810f58af53ed4820f25e5</td><td>98700</td><td>IJUI</td><td>RS</td></tr><tr><td>000598caf2ef4117407665ac33275130</td><td>7e0516b486e92ed3f3afdd6d1276cfbd</td><td>35540</td><td>OLIVEIRA</td><td>MG</td></tr><tr><td>0013cd8e350a7cc76873441e431dd5ee</td><td>334fed5abcee3aa96c13f1432703e1fd</td><td>3585</td><td>SAO PAULO</td><td>SP</td></tr><tr><td>0015bc9fd2d5395446143e8b215d7c75</td><td>490c854539b21598cfbbac518ca25788</td><td>12233</td><td>SAO JOSE DOS CAMPOS</td><td>SP</td></tr><tr><td>001df1ee5c36767aa607001ab1a13a06</td><td>46b44ab325f78e5bb3dc0bbef1082082</td><td>1030</td><td>SAO PAULO</td><td>SP</td></tr><tr><td>001f150aebb5d897f2059b0460c38449</td><td>0f88eb431888ffb9d726252b7ac8cefe</td><td>79031</td><td>CAMPO GRANDE</td><td>MS</td></tr><tr><td>001f35d9f262c558fd065346fbf5801d</td><td>ed5340f0e2a52fffa065298aeb875e60</td><td>21011</td><td>RIO DE JANEIRO</td><td>RJ</td></tr><tr><td>0026955706fd4e2fa997f3f4c18d485a</td><td>47b6bc410befb9fa30a4c029dba944e5</td><td>2926</td><td>SAO PAULO</td><td>SP</td></tr><tr><td>0028ff36263a86bf679df7c863a0a0ba</td><td>0659763dba9821af49728668716e1084</td><td>28895</td><td>RIO DAS OSTRAS</td><td>RJ</td></tr><tr><td>0035b30e58c620fa2bd30275ddd4f7ef</td><td>422ce018570adf9fa031a7838717be81</td><td>24342</td><td>NITEROI</td><td>RJ</td></tr></tbody></table></div>"
      ]
     },
     "metadata": {
      "application/vnd.databricks.v1+output": {
       "addedWidgets": {},
       "aggData": [],
       "aggError": "",
       "aggOverflow": false,
       "aggSchema": [],
       "aggSeriesLimitReached": false,
       "aggType": "",
       "arguments": {},
       "columnCustomDisplayInfos": {},
       "data": [
        [
         "00050bf6e01e69d5c0fd612f1bcfb69c",
         "e3cf594a99e810f58af53ed4820f25e5",
         "98700",
         "IJUI",
         "RS"
        ],
        [
         "000598caf2ef4117407665ac33275130",
         "7e0516b486e92ed3f3afdd6d1276cfbd",
         "35540",
         "OLIVEIRA",
         "MG"
        ],
        [
         "0013cd8e350a7cc76873441e431dd5ee",
         "334fed5abcee3aa96c13f1432703e1fd",
         "3585",
         "SAO PAULO",
         "SP"
        ],
        [
         "0015bc9fd2d5395446143e8b215d7c75",
         "490c854539b21598cfbbac518ca25788",
         "12233",
         "SAO JOSE DOS CAMPOS",
         "SP"
        ],
        [
         "001df1ee5c36767aa607001ab1a13a06",
         "46b44ab325f78e5bb3dc0bbef1082082",
         "1030",
         "SAO PAULO",
         "SP"
        ],
        [
         "001f150aebb5d897f2059b0460c38449",
         "0f88eb431888ffb9d726252b7ac8cefe",
         "79031",
         "CAMPO GRANDE",
         "MS"
        ],
        [
         "001f35d9f262c558fd065346fbf5801d",
         "ed5340f0e2a52fffa065298aeb875e60",
         "21011",
         "RIO DE JANEIRO",
         "RJ"
        ],
        [
         "0026955706fd4e2fa997f3f4c18d485a",
         "47b6bc410befb9fa30a4c029dba944e5",
         "2926",
         "SAO PAULO",
         "SP"
        ],
        [
         "0028ff36263a86bf679df7c863a0a0ba",
         "0659763dba9821af49728668716e1084",
         "28895",
         "RIO DAS OSTRAS",
         "RJ"
        ],
        [
         "0035b30e58c620fa2bd30275ddd4f7ef",
         "422ce018570adf9fa031a7838717be81",
         "24342",
         "NITEROI",
         "RJ"
        ]
       ],
       "datasetInfos": [],
       "dbfsResultPath": null,
       "isJsonSchema": true,
       "metadata": {},
       "overflow": false,
       "plotOptions": {
        "customPlotOptions": {},
        "displayType": "table",
        "pivotAggregation": null,
        "pivotColumns": null,
        "xColumns": null,
        "yColumns": null
       },
       "removedWidgets": [],
       "schema": [
        {
         "metadata": "{}",
         "name": "customer_id",
         "type": "\"string\""
        },
        {
         "metadata": "{}",
         "name": "unique_id",
         "type": "\"string\""
        },
        {
         "metadata": "{}",
         "name": "zip_prefix",
         "type": "\"string\""
        },
        {
         "metadata": "{}",
         "name": "city",
         "type": "\"string\""
        },
        {
         "metadata": "{}",
         "name": "state",
         "type": "\"string\""
        }
       ],
       "type": "table"
      }
     },
     "output_type": "display_data"
    }
   ],
   "source": [
    "%sql\n",
    "-- Visualizar os primeiros registros\n",
    "SELECT * FROM silver.dim_customers LIMIT 10;"
   ]
  },
  {
   "cell_type": "code",
   "execution_count": 0,
   "metadata": {
    "application/vnd.databricks.v1+cell": {
     "cellMetadata": {
      "byteLimit": 2048000,
      "implicitDf": true,
      "rowLimit": 10000
     },
     "inputWidgets": {},
     "nuid": "f2b1da9e-7f03-473a-9f3e-09a76349fa7a",
     "showTitle": false,
     "tableResultSettingsMap": {},
     "title": ""
    }
   },
   "outputs": [
    {
     "output_type": "display_data",
     "data": {
      "text/html": [
       "<style scoped>\n",
       "  .table-result-container {\n",
       "    max-height: 300px;\n",
       "    overflow: auto;\n",
       "  }\n",
       "  table, th, td {\n",
       "    border: 1px solid black;\n",
       "    border-collapse: collapse;\n",
       "  }\n",
       "  th, td {\n",
       "    padding: 5px;\n",
       "  }\n",
       "  th {\n",
       "    text-align: left;\n",
       "  }\n",
       "</style><div class='table-result-container'><table class='table-result'><thead style='background-color: white'><tr><th>state</th><th>total_clientes</th></tr></thead><tbody><tr><td>SP</td><td>41746</td></tr><tr><td>RJ</td><td>12852</td></tr><tr><td>MG</td><td>11635</td></tr><tr><td>RS</td><td>5466</td></tr><tr><td>PR</td><td>5045</td></tr><tr><td>SC</td><td>3637</td></tr><tr><td>BA</td><td>3380</td></tr><tr><td>DF</td><td>2140</td></tr><tr><td>ES</td><td>2033</td></tr><tr><td>GO</td><td>2020</td></tr><tr><td>PE</td><td>1652</td></tr><tr><td>CE</td><td>1336</td></tr><tr><td>PA</td><td>975</td></tr><tr><td>MT</td><td>907</td></tr><tr><td>MA</td><td>747</td></tr><tr><td>MS</td><td>715</td></tr><tr><td>PB</td><td>536</td></tr><tr><td>PI</td><td>495</td></tr><tr><td>RN</td><td>485</td></tr><tr><td>AL</td><td>413</td></tr><tr><td>SE</td><td>350</td></tr><tr><td>TO</td><td>280</td></tr><tr><td>RO</td><td>253</td></tr><tr><td>AM</td><td>148</td></tr><tr><td>AC</td><td>81</td></tr><tr><td>AP</td><td>68</td></tr><tr><td>RR</td><td>46</td></tr></tbody></table></div>"
      ]
     },
     "metadata": {
      "application/vnd.databricks.v1+output": {
       "addedWidgets": {},
       "aggData": [],
       "aggError": "",
       "aggOverflow": false,
       "aggSchema": [],
       "aggSeriesLimitReached": false,
       "aggType": "",
       "arguments": {},
       "columnCustomDisplayInfos": {},
       "data": [
        [
         "SP",
         41746
        ],
        [
         "RJ",
         12852
        ],
        [
         "MG",
         11635
        ],
        [
         "RS",
         5466
        ],
        [
         "PR",
         5045
        ],
        [
         "SC",
         3637
        ],
        [
         "BA",
         3380
        ],
        [
         "DF",
         2140
        ],
        [
         "ES",
         2033
        ],
        [
         "GO",
         2020
        ],
        [
         "PE",
         1652
        ],
        [
         "CE",
         1336
        ],
        [
         "PA",
         975
        ],
        [
         "MT",
         907
        ],
        [
         "MA",
         747
        ],
        [
         "MS",
         715
        ],
        [
         "PB",
         536
        ],
        [
         "PI",
         495
        ],
        [
         "RN",
         485
        ],
        [
         "AL",
         413
        ],
        [
         "SE",
         350
        ],
        [
         "TO",
         280
        ],
        [
         "RO",
         253
        ],
        [
         "AM",
         148
        ],
        [
         "AC",
         81
        ],
        [
         "AP",
         68
        ],
        [
         "RR",
         46
        ]
       ],
       "datasetInfos": [],
       "dbfsResultPath": null,
       "isJsonSchema": true,
       "metadata": {},
       "overflow": false,
       "plotOptions": {
        "customPlotOptions": {},
        "displayType": "table",
        "pivotAggregation": null,
        "pivotColumns": null,
        "xColumns": null,
        "yColumns": null
       },
       "removedWidgets": [],
       "schema": [
        {
         "metadata": "{}",
         "name": "state",
         "type": "\"string\""
        },
        {
         "metadata": "{}",
         "name": "total_clientes",
         "type": "\"long\""
        }
       ],
       "type": "table"
      }
     },
     "output_type": "display_data"
    }
   ],
   "source": [
    "%sql\n",
    "-- Verificar quantidade de clientes por estado\n",
    "SELECT state, COUNT(*) AS total_clientes\n",
    "FROM silver.dim_customers\n",
    "GROUP BY state\n",
    "ORDER BY total_clientes DESC;"
   ]
  },
  {
   "cell_type": "code",
   "execution_count": 0,
   "metadata": {
    "application/vnd.databricks.v1+cell": {
     "cellMetadata": {
      "byteLimit": 2048000,
      "implicitDf": true,
      "rowLimit": 10000
     },
     "inputWidgets": {},
     "nuid": "0996fcb1-ee29-4952-a35e-a23dcea79c6e",
     "showTitle": false,
     "tableResultSettingsMap": {},
     "title": ""
    }
   },
   "outputs": [
    {
     "output_type": "display_data",
     "data": {
      "text/html": [
       "<style scoped>\n",
       "  .table-result-container {\n",
       "    max-height: 300px;\n",
       "    overflow: auto;\n",
       "  }\n",
       "  table, th, td {\n",
       "    border: 1px solid black;\n",
       "    border-collapse: collapse;\n",
       "  }\n",
       "  th, td {\n",
       "    padding: 5px;\n",
       "  }\n",
       "  th {\n",
       "    text-align: left;\n",
       "  }\n",
       "</style><div class='table-result-container'><table class='table-result'><thead style='background-color: white'><tr><th>city</th><th>total</th></tr></thead><tbody><tr><td>SAO PAULO</td><td>15540</td></tr><tr><td>RIO DE JANEIRO</td><td>6882</td></tr><tr><td>BELO HORIZONTE</td><td>2773</td></tr><tr><td>BRASILIA</td><td>2131</td></tr><tr><td>CURITIBA</td><td>1521</td></tr></tbody></table></div>"
      ]
     },
     "metadata": {
      "application/vnd.databricks.v1+output": {
       "addedWidgets": {},
       "aggData": [],
       "aggError": "",
       "aggOverflow": false,
       "aggSchema": [],
       "aggSeriesLimitReached": false,
       "aggType": "",
       "arguments": {},
       "columnCustomDisplayInfos": {},
       "data": [
        [
         "SAO PAULO",
         15540
        ],
        [
         "RIO DE JANEIRO",
         6882
        ],
        [
         "BELO HORIZONTE",
         2773
        ],
        [
         "BRASILIA",
         2131
        ],
        [
         "CURITIBA",
         1521
        ]
       ],
       "datasetInfos": [],
       "dbfsResultPath": null,
       "isJsonSchema": true,
       "metadata": {},
       "overflow": false,
       "plotOptions": {
        "customPlotOptions": {},
        "displayType": "table",
        "pivotAggregation": null,
        "pivotColumns": null,
        "xColumns": null,
        "yColumns": null
       },
       "removedWidgets": [],
       "schema": [
        {
         "metadata": "{}",
         "name": "city",
         "type": "\"string\""
        },
        {
         "metadata": "{}",
         "name": "total",
         "type": "\"long\""
        }
       ],
       "type": "table"
      }
     },
     "output_type": "display_data"
    }
   ],
   "source": [
    "%sql\n",
    "-- Verificar cidades com mais clientes\n",
    "SELECT city, COUNT(*) AS total\n",
    "FROM silver.dim_customers\n",
    "GROUP BY city\n",
    "ORDER BY total DESC\n",
    "LIMIT 5;"
   ]
  },
  {
   "cell_type": "code",
   "execution_count": 0,
   "metadata": {
    "application/vnd.databricks.v1+cell": {
     "cellMetadata": {
      "byteLimit": 2048000,
      "implicitDf": true,
      "rowLimit": 10000
     },
     "inputWidgets": {},
     "nuid": "45c77b5c-2fa1-4bc6-95c0-ed284802cd39",
     "showTitle": false,
     "tableResultSettingsMap": {},
     "title": ""
    }
   },
   "outputs": [
    {
     "output_type": "display_data",
     "data": {
      "text/html": [
       "<style scoped>\n",
       "  .table-result-container {\n",
       "    max-height: 300px;\n",
       "    overflow: auto;\n",
       "  }\n",
       "  table, th, td {\n",
       "    border: 1px solid black;\n",
       "    border-collapse: collapse;\n",
       "  }\n",
       "  th, td {\n",
       "    padding: 5px;\n",
       "  }\n",
       "  th {\n",
       "    text-align: left;\n",
       "  }\n",
       "</style><div class='table-result-container'><table class='table-result'><thead style='background-color: white'><tr><th>order_status</th><th>total_pedidos</th><th>preco_medio</th></tr></thead><tbody><tr><td>shipped</td><td>1185</td><td>149.48</td></tr><tr><td>canceled</td><td>542</td><td>195.36</td></tr><tr><td>invoiced</td><td>359</td><td>192.17</td></tr><tr><td>delivered</td><td>110197</td><td>139.93</td></tr><tr><td>processing</td><td>357</td><td>194.38</td></tr><tr><td>unavailable</td><td>7</td><td>305.78</td></tr><tr><td>approved</td><td>3</td><td>80.36</td></tr></tbody></table></div>"
      ]
     },
     "metadata": {
      "application/vnd.databricks.v1+output": {
       "addedWidgets": {},
       "aggData": [],
       "aggError": "",
       "aggOverflow": false,
       "aggSchema": [],
       "aggSeriesLimitReached": false,
       "aggType": "",
       "arguments": {},
       "columnCustomDisplayInfos": {},
       "data": [
        [
         "shipped",
         1185,
         149.48
        ],
        [
         "canceled",
         542,
         195.36
        ],
        [
         "invoiced",
         359,
         192.17
        ],
        [
         "delivered",
         110197,
         139.93
        ],
        [
         "processing",
         357,
         194.38
        ],
        [
         "unavailable",
         7,
         305.78
        ],
        [
         "approved",
         3,
         80.36
        ]
       ],
       "datasetInfos": [],
       "dbfsResultPath": null,
       "isJsonSchema": true,
       "metadata": {},
       "overflow": false,
       "plotOptions": {
        "customPlotOptions": {},
        "displayType": "table",
        "pivotAggregation": null,
        "pivotColumns": null,
        "xColumns": null,
        "yColumns": null
       },
       "removedWidgets": [],
       "schema": [
        {
         "metadata": "{}",
         "name": "order_status",
         "type": "\"string\""
        },
        {
         "metadata": "{}",
         "name": "total_pedidos",
         "type": "\"long\""
        },
        {
         "metadata": "{}",
         "name": "preco_medio",
         "type": "\"double\""
        }
       ],
       "type": "table"
      }
     },
     "output_type": "display_data"
    }
   ],
   "source": [
    "%sql\n",
    "-- Total de pedidos e valor médio por status\n",
    "SELECT order_status, COUNT(*) AS total_pedidos,\n",
    "       ROUND(AVG(preco_total_item), 2) AS preco_medio\n",
    "FROM silver.fct_order_items\n",
    "GROUP BY order_status;"
   ]
  },
  {
   "cell_type": "code",
   "execution_count": 0,
   "metadata": {
    "application/vnd.databricks.v1+cell": {
     "cellMetadata": {
      "byteLimit": 2048000,
      "implicitDf": true,
      "rowLimit": 10000
     },
     "inputWidgets": {},
     "nuid": "71818f62-5889-43d3-b9ab-273fbaff59c2",
     "showTitle": false,
     "tableResultSettingsMap": {},
     "title": ""
    }
   },
   "outputs": [
    {
     "output_type": "display_data",
     "data": {
      "text/html": [
       "<style scoped>\n",
       "  .table-result-container {\n",
       "    max-height: 300px;\n",
       "    overflow: auto;\n",
       "  }\n",
       "  table, th, td {\n",
       "    border: 1px solid black;\n",
       "    border-collapse: collapse;\n",
       "  }\n",
       "  th, td {\n",
       "    padding: 5px;\n",
       "  }\n",
       "  th {\n",
       "    text-align: left;\n",
       "  }\n",
       "</style><div class='table-result-container'><table class='table-result'><thead style='background-color: white'><tr><th>product_id</th><th>total_vendido</th></tr></thead><tbody><tr><td>bb50f2e236e5eea0100680137654686c</td><td>67606.09999999999</td></tr><tr><td>d1c427060a0f73f6b889a5c7c61f2ac4</td><td>60976.03</td></tr><tr><td>6cdd53843498f92890544667809f1595</td><td>59093.99</td></tr><tr><td>99a4788cb24856965c36a24e339b6058</td><td>51071.600000000006</td></tr><tr><td>d6160fb7873f184099d9bc95e30376af</td><td>50326.17999999999</td></tr></tbody></table></div>"
      ]
     },
     "metadata": {
      "application/vnd.databricks.v1+output": {
       "addedWidgets": {},
       "aggData": [],
       "aggError": "",
       "aggOverflow": false,
       "aggSchema": [],
       "aggSeriesLimitReached": false,
       "aggType": "",
       "arguments": {},
       "columnCustomDisplayInfos": {},
       "data": [
        [
         "bb50f2e236e5eea0100680137654686c",
         67606.09999999999
        ],
        [
         "d1c427060a0f73f6b889a5c7c61f2ac4",
         60976.03
        ],
        [
         "6cdd53843498f92890544667809f1595",
         59093.99
        ],
        [
         "99a4788cb24856965c36a24e339b6058",
         51071.600000000006
        ],
        [
         "d6160fb7873f184099d9bc95e30376af",
         50326.17999999999
        ]
       ],
       "datasetInfos": [],
       "dbfsResultPath": null,
       "isJsonSchema": true,
       "metadata": {},
       "overflow": false,
       "plotOptions": {
        "customPlotOptions": {},
        "displayType": "table",
        "pivotAggregation": null,
        "pivotColumns": null,
        "xColumns": null,
        "yColumns": null
       },
       "removedWidgets": [],
       "schema": [
        {
         "metadata": "{}",
         "name": "product_id",
         "type": "\"string\""
        },
        {
         "metadata": "{}",
         "name": "total_vendido",
         "type": "\"double\""
        }
       ],
       "type": "table"
      }
     },
     "output_type": "display_data"
    }
   ],
   "source": [
    "%sql\n",
    "-- Top 5 produtos com maior valor total de venda\n",
    "SELECT product_id, SUM(preco_total_item) AS total_vendido\n",
    "FROM silver.fct_order_items\n",
    "GROUP BY product_id\n",
    "ORDER BY total_vendido DESC\n",
    "LIMIT 5;"
   ]
  },
  {
   "cell_type": "code",
   "execution_count": 0,
   "metadata": {
    "application/vnd.databricks.v1+cell": {
     "cellMetadata": {
      "byteLimit": 2048000,
      "implicitDf": true,
      "rowLimit": 10000
     },
     "inputWidgets": {},
     "nuid": "a7325d77-7c2c-4393-bec4-1e15619f2faa",
     "showTitle": false,
     "tableResultSettingsMap": {},
     "title": ""
    }
   },
   "outputs": [
    {
     "output_type": "display_data",
     "data": {
      "text/html": [
       "<style scoped>\n",
       "  .table-result-container {\n",
       "    max-height: 300px;\n",
       "    overflow: auto;\n",
       "  }\n",
       "  table, th, td {\n",
       "    border: 1px solid black;\n",
       "    border-collapse: collapse;\n",
       "  }\n",
       "  th, td {\n",
       "    padding: 5px;\n",
       "  }\n",
       "  th {\n",
       "    text-align: left;\n",
       "  }\n",
       "</style><div class='table-result-container'><table class='table-result'><thead style='background-color: white'><tr><th>state</th><th>frete_medio</th></tr></thead><tbody><tr><td>RR</td><td>42.98</td></tr><tr><td>PB</td><td>42.72</td></tr><tr><td>RO</td><td>41.07</td></tr><tr><td>AC</td><td>40.07</td></tr><tr><td>PI</td><td>39.15</td></tr><tr><td>MA</td><td>38.26</td></tr><tr><td>TO</td><td>37.25</td></tr><tr><td>SE</td><td>36.65</td></tr><tr><td>AL</td><td>35.84</td></tr><tr><td>PA</td><td>35.83</td></tr><tr><td>RN</td><td>35.65</td></tr><tr><td>AP</td><td>34.01</td></tr><tr><td>AM</td><td>33.21</td></tr><tr><td>PE</td><td>32.92</td></tr><tr><td>CE</td><td>32.71</td></tr><tr><td>MT</td><td>28.17</td></tr><tr><td>BA</td><td>26.36</td></tr><tr><td>MS</td><td>23.37</td></tr><tr><td>GO</td><td>22.77</td></tr><tr><td>ES</td><td>22.06</td></tr><tr><td>RS</td><td>21.74</td></tr><tr><td>SC</td><td>21.47</td></tr><tr><td>DF</td><td>21.04</td></tr><tr><td>RJ</td><td>20.96</td></tr><tr><td>MG</td><td>20.63</td></tr><tr><td>PR</td><td>20.53</td></tr><tr><td>SP</td><td>15.15</td></tr></tbody></table></div>"
      ]
     },
     "metadata": {
      "application/vnd.databricks.v1+output": {
       "addedWidgets": {},
       "aggData": [],
       "aggError": "",
       "aggOverflow": false,
       "aggSchema": [],
       "aggSeriesLimitReached": false,
       "aggType": "",
       "arguments": {},
       "columnCustomDisplayInfos": {},
       "data": [
        [
         "RR",
         42.98
        ],
        [
         "PB",
         42.72
        ],
        [
         "RO",
         41.07
        ],
        [
         "AC",
         40.07
        ],
        [
         "PI",
         39.15
        ],
        [
         "MA",
         38.26
        ],
        [
         "TO",
         37.25
        ],
        [
         "SE",
         36.65
        ],
        [
         "AL",
         35.84
        ],
        [
         "PA",
         35.83
        ],
        [
         "RN",
         35.65
        ],
        [
         "AP",
         34.01
        ],
        [
         "AM",
         33.21
        ],
        [
         "PE",
         32.92
        ],
        [
         "CE",
         32.71
        ],
        [
         "MT",
         28.17
        ],
        [
         "BA",
         26.36
        ],
        [
         "MS",
         23.37
        ],
        [
         "GO",
         22.77
        ],
        [
         "ES",
         22.06
        ],
        [
         "RS",
         21.74
        ],
        [
         "SC",
         21.47
        ],
        [
         "DF",
         21.04
        ],
        [
         "RJ",
         20.96
        ],
        [
         "MG",
         20.63
        ],
        [
         "PR",
         20.53
        ],
        [
         "SP",
         15.15
        ]
       ],
       "datasetInfos": [],
       "dbfsResultPath": null,
       "isJsonSchema": true,
       "metadata": {},
       "overflow": false,
       "plotOptions": {
        "customPlotOptions": {},
        "displayType": "table",
        "pivotAggregation": null,
        "pivotColumns": null,
        "xColumns": null,
        "yColumns": null
       },
       "removedWidgets": [],
       "schema": [
        {
         "metadata": "{}",
         "name": "state",
         "type": "\"string\""
        },
        {
         "metadata": "{}",
         "name": "frete_medio",
         "type": "\"double\""
        }
       ],
       "type": "table"
      }
     },
     "output_type": "display_data"
    }
   ],
   "source": [
    "%sql\n",
    "-- Frete médio por estado de destino\n",
    "SELECT c.state, ROUND(AVG(f.freight_value), 2) AS frete_medio\n",
    "FROM silver.fct_order_items f\n",
    "JOIN silver.dim_customers c ON f.customer_id = c.customer_id\n",
    "GROUP BY c.state\n",
    "ORDER BY frete_medio DESC;"
   ]
  }
 ],
 "metadata": {
  "application/vnd.databricks.v1+notebook": {
   "computePreferences": null,
   "dashboards": [],
   "environmentMetadata": {
    "base_environment": "",
    "environment_version": "1"
   },
   "inputWidgetPreferences": null,
   "language": "python",
   "notebookMetadata": {
    "mostRecentlyExecutedCommandWithImplicitDF": {
     "commandId": 500491060173342,
     "dataframes": [
      "_sqldf"
     ]
    },
    "pythonIndentUnit": 4
   },
   "notebookName": "Exemplos de Queries SQL",
   "widgets": {}
  }
 },
 "nbformat": 4,
 "nbformat_minor": 0
}